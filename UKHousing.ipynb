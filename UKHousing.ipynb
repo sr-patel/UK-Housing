{
 "cells": [
  {
   "cell_type": "code",
   "execution_count": 2,
   "id": "4560e84f-2077-4944-9c01-ecca34fc6c4c",
   "metadata": {},
   "outputs": [],
   "source": [
    "import pandas as pd\n",
    "import matplotlib.pyplot as plt\n",
    "import numpy as np\n",
    "import datetime\n",
    "from scipy.interpolate import make_interp_spline, BSpline"
   ]
  },
  {
   "cell_type": "code",
   "execution_count": 3,
   "id": "33371a62-7968-4ff4-a5ff-5354e09d78dd",
   "metadata": {},
   "outputs": [
    {
     "name": "stderr",
     "output_type": "stream",
     "text": [
      "C:\\Users\\sohan\\AppData\\Local\\Temp\\ipykernel_27308\\3258042265.py:1: FutureWarning: The error_bad_lines argument has been deprecated and will be removed in a future version. Use on_bad_lines in the future.\n",
      "\n",
      "\n",
      "  housingData = pd.read_csv('C:\\\\Users\\\\sohan\\\\Documents\\\\Documents and Sheets\\\\Python\\\\Jupyter\\\\perHousingData.csv',error_bad_lines=False, engine=\"python\")\n"
     ]
    }
   ],
   "source": [
    "housingData = pd.read_csv('C:\\\\Users\\\\sohan\\\\Documents\\\\Documents and Sheets\\\\Python\\\\Jupyter\\\\perHousingData.csv',error_bad_lines=False, engine=\"python\")\n",
    "housingData['Pivotable date'] = pd.to_datetime(housingData['Pivotable date'])"
   ]
  },
  {
   "cell_type": "code",
   "execution_count": 7,
   "id": "201e96ce",
   "metadata": {},
   "outputs": [
    {
     "data": {
      "text/html": [
       "<div>\n",
       "<style scoped>\n",
       "    .dataframe tbody tr th:only-of-type {\n",
       "        vertical-align: middle;\n",
       "    }\n",
       "\n",
       "    .dataframe tbody tr th {\n",
       "        vertical-align: top;\n",
       "    }\n",
       "\n",
       "    .dataframe thead th {\n",
       "        text-align: right;\n",
       "    }\n",
       "</style>\n",
       "<table border=\"1\" class=\"dataframe\">\n",
       "  <thead>\n",
       "    <tr style=\"text-align: right;\">\n",
       "      <th></th>\n",
       "      <th>Name</th>\n",
       "      <th>URI</th>\n",
       "      <th>Region GSS code</th>\n",
       "      <th>Period</th>\n",
       "      <th>Sales volume</th>\n",
       "      <th>Reporting period</th>\n",
       "      <th>Percentage change (yearly) All property types</th>\n",
       "      <th>Percentage change (yearly) Detached houses</th>\n",
       "      <th>Percentage change (yearly) Semi-detached houses</th>\n",
       "      <th>Percentage change (yearly) Terraced houses</th>\n",
       "      <th>Percentage change (yearly) Flats and maisonettes</th>\n",
       "      <th>Pivotable date</th>\n",
       "    </tr>\n",
       "  </thead>\n",
       "  <tbody>\n",
       "    <tr>\n",
       "      <th>0</th>\n",
       "      <td>United Kingdom</td>\n",
       "      <td>http://landregistry.data.gov.uk/id/region/unit...</td>\n",
       "      <td>K02000001</td>\n",
       "      <td>1970-01</td>\n",
       "      <td>NaN</td>\n",
       "      <td>quarterly</td>\n",
       "      <td>4.32</td>\n",
       "      <td>NaN</td>\n",
       "      <td>NaN</td>\n",
       "      <td>NaN</td>\n",
       "      <td>NaN</td>\n",
       "      <td>1970-01-01</td>\n",
       "    </tr>\n",
       "    <tr>\n",
       "      <th>1</th>\n",
       "      <td>United Kingdom</td>\n",
       "      <td>http://landregistry.data.gov.uk/id/region/unit...</td>\n",
       "      <td>K02000001</td>\n",
       "      <td>1970-02</td>\n",
       "      <td>NaN</td>\n",
       "      <td>quarterly</td>\n",
       "      <td>4.32</td>\n",
       "      <td>NaN</td>\n",
       "      <td>NaN</td>\n",
       "      <td>NaN</td>\n",
       "      <td>NaN</td>\n",
       "      <td>1970-02-01</td>\n",
       "    </tr>\n",
       "    <tr>\n",
       "      <th>2</th>\n",
       "      <td>United Kingdom</td>\n",
       "      <td>http://landregistry.data.gov.uk/id/region/unit...</td>\n",
       "      <td>K02000001</td>\n",
       "      <td>1970-03</td>\n",
       "      <td>NaN</td>\n",
       "      <td>quarterly</td>\n",
       "      <td>4.32</td>\n",
       "      <td>NaN</td>\n",
       "      <td>NaN</td>\n",
       "      <td>NaN</td>\n",
       "      <td>NaN</td>\n",
       "      <td>1970-03-01</td>\n",
       "    </tr>\n",
       "    <tr>\n",
       "      <th>3</th>\n",
       "      <td>United Kingdom</td>\n",
       "      <td>http://landregistry.data.gov.uk/id/region/unit...</td>\n",
       "      <td>K02000001</td>\n",
       "      <td>1970-04</td>\n",
       "      <td>NaN</td>\n",
       "      <td>quarterly</td>\n",
       "      <td>4.26</td>\n",
       "      <td>NaN</td>\n",
       "      <td>NaN</td>\n",
       "      <td>NaN</td>\n",
       "      <td>NaN</td>\n",
       "      <td>1970-04-01</td>\n",
       "    </tr>\n",
       "    <tr>\n",
       "      <th>4</th>\n",
       "      <td>United Kingdom</td>\n",
       "      <td>http://landregistry.data.gov.uk/id/region/unit...</td>\n",
       "      <td>K02000001</td>\n",
       "      <td>1970-05</td>\n",
       "      <td>NaN</td>\n",
       "      <td>quarterly</td>\n",
       "      <td>4.26</td>\n",
       "      <td>NaN</td>\n",
       "      <td>NaN</td>\n",
       "      <td>NaN</td>\n",
       "      <td>NaN</td>\n",
       "      <td>1970-05-01</td>\n",
       "    </tr>\n",
       "  </tbody>\n",
       "</table>\n",
       "</div>"
      ],
      "text/plain": [
       "             Name                                                URI  \\\n",
       "0  United Kingdom  http://landregistry.data.gov.uk/id/region/unit...   \n",
       "1  United Kingdom  http://landregistry.data.gov.uk/id/region/unit...   \n",
       "2  United Kingdom  http://landregistry.data.gov.uk/id/region/unit...   \n",
       "3  United Kingdom  http://landregistry.data.gov.uk/id/region/unit...   \n",
       "4  United Kingdom  http://landregistry.data.gov.uk/id/region/unit...   \n",
       "\n",
       "  Region GSS code   Period  Sales volume Reporting period  \\\n",
       "0       K02000001  1970-01           NaN        quarterly   \n",
       "1       K02000001  1970-02           NaN        quarterly   \n",
       "2       K02000001  1970-03           NaN        quarterly   \n",
       "3       K02000001  1970-04           NaN        quarterly   \n",
       "4       K02000001  1970-05           NaN        quarterly   \n",
       "\n",
       "   Percentage change (yearly) All property types  \\\n",
       "0                                           4.32   \n",
       "1                                           4.32   \n",
       "2                                           4.32   \n",
       "3                                           4.26   \n",
       "4                                           4.26   \n",
       "\n",
       "   Percentage change (yearly) Detached houses  \\\n",
       "0                                         NaN   \n",
       "1                                         NaN   \n",
       "2                                         NaN   \n",
       "3                                         NaN   \n",
       "4                                         NaN   \n",
       "\n",
       "   Percentage change (yearly) Semi-detached houses  \\\n",
       "0                                              NaN   \n",
       "1                                              NaN   \n",
       "2                                              NaN   \n",
       "3                                              NaN   \n",
       "4                                              NaN   \n",
       "\n",
       "   Percentage change (yearly) Terraced houses  \\\n",
       "0                                         NaN   \n",
       "1                                         NaN   \n",
       "2                                         NaN   \n",
       "3                                         NaN   \n",
       "4                                         NaN   \n",
       "\n",
       "   Percentage change (yearly) Flats and maisonettes Pivotable date  \n",
       "0                                               NaN     1970-01-01  \n",
       "1                                               NaN     1970-02-01  \n",
       "2                                               NaN     1970-03-01  \n",
       "3                                               NaN     1970-04-01  \n",
       "4                                               NaN     1970-05-01  "
      ]
     },
     "execution_count": 7,
     "metadata": {},
     "output_type": "execute_result"
    }
   ],
   "source": [
    "housingData.head()"
   ]
  },
  {
   "cell_type": "code",
   "execution_count": 8,
   "id": "e684924d",
   "metadata": {},
   "outputs": [
    {
     "data": {
      "text/plain": [
       "Name                                                        object\n",
       "URI                                                         object\n",
       "Region GSS code                                             object\n",
       "Period                                                      object\n",
       "Sales volume                                               float64\n",
       "Reporting period                                            object\n",
       "Percentage change (yearly) All property types              float64\n",
       "Percentage change (yearly) Detached houses                 float64\n",
       "Percentage change (yearly) Semi-detached houses            float64\n",
       "Percentage change (yearly) Terraced houses                 float64\n",
       "Percentage change (yearly) Flats and maisonettes           float64\n",
       "Pivotable date                                      datetime64[ns]\n",
       "dtype: object"
      ]
     },
     "execution_count": 8,
     "metadata": {},
     "output_type": "execute_result"
    }
   ],
   "source": [
    "housingData.dtypes"
   ]
  },
  {
   "cell_type": "code",
   "execution_count": 5,
   "id": "6587adf4",
   "metadata": {},
   "outputs": [],
   "source": [
    "X = \"Pivotable date\"\n",
    "Y = \"Percentage change (yearly) All property types\" "
   ]
  },
  {
   "cell_type": "code",
   "execution_count": 6,
   "metadata": {},
   "outputs": [
    {
     "data": {
      "text/plain": [
       "<Figure size 108000x72000 with 0 Axes>"
      ]
     },
     "metadata": {},
     "output_type": "display_data"
    },
    {
     "data": {
      "image/png": "[encoded data removed]",
      "text/plain": [
       "<Figure size 432x288 with 1 Axes>"
      ]
     },
     "metadata": {
      "needs_background": "light"
     },
     "output_type": "display_data"
    }
   ],
   "source": [
    "plt.figure(figsize=(1500,1000))\n",
    "housingPlot = housingData.plot(kind='line',y=Y,x=X,color='blue', linewidth=0.75)\n",
    "\n",
    "plt.axhline(0, color='black', alpha=0.3)\n",
    "\n",
    "plt.axvline(pd.to_datetime('2001-03-01'), color='purple', alpha=0.3)\n",
    " \n",
    "plt.xlabel(\"\") \n",
    "plt.ylabel('Yearly % Change (Source: GOV - HPI & LR)') \n",
    "plt.title('UK Housing')\n",
    "\n",
    "housingPlot.legend([\"Average House Price\"])\n",
    "\n",
    "plt.savefig('finFig.jpg', transparent=False, dpi=500)\n",
    "plt.show()"
   ]
  }
 ],
 "metadata": {
  "kernelspec": {
   "display_name": "Python 3.10.6 64-bit",
   "language": "python",
   "name": "python3"
  },
  "language_info": {
   "codemirror_mode": {
    "name": "ipython",
    "version": 3
   },
   "file_extension": ".py",
   "mimetype": "text/x-python",
   "name": "python",
   "nbconvert_exporter": "python",
   "pygments_lexer": "ipython3",
   "version": "3.10.6"
  },
  "vscode": {
   "interpreter": {
    "hash": "d903a81371447316732190516d9c85f21360cf4c8051966117734349b9148cf6"
   }
  }
 },
 "nbformat": 4,
 "nbformat_minor": 5
}
